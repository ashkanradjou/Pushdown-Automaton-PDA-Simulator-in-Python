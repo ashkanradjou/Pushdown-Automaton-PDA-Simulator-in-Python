class PDASimulator:
    def __init__(self, states, alphabet, stack_alphabet, transitions, start_state, accept_states, stack_symbol):
        self.states = states
        self.alphabet = alphabet
        self.stack_alphabet = stack_alphabet
        self.transitions = transitions
        self.start_state = start_state
        self.accept_states = accept_states
        self.stack_symbol = stack_symbol

    def is_accepted(self, input_string):
        stack = [self.stack_symbol]
        current_state = self.start_state

        for symbol in input_string:
            if symbol not in self.alphabet:
                return False  # Reject if symbol not in alphabet

            if (current_state, symbol, stack[-1]) in self.transitions:
                # Apply transition
                current_state, pop_symbol, push_symbols = self.transitions[(current_state, symbol, stack.pop())]
                if pop_symbol != 'epsilon':
                    stack.extend(reversed(pop_symbol))
                if push_symbols != 'epsilon':
                    stack.extend(reversed(push_symbols))
            else:
                return False  # Reject if no transition is defined for the current state and symbol

        # Check if the final state is an accept state
        return current_state in self.accept_states

# Example usage:
# Define PDA parameters
states = {'q0', 'q1', 'q2'}
alphabet = {'0','1'}
stack_alphabet = {'0', '1', 'Z'}
transitions = {('q0', '1', 'Z'): ('q0', 'epsilon', '1Z'),
               ('q0', '1', '1'): ('q0', 'epsilon', '11'),
               ('q0', '0', '1'): ('q1', 'epsilon', 'epsilon'),
               ('q1', '0', '1'): ('q1', 'epsilon', 'epsilon'),
               ('q1', '0', 'Z'): ('q2', 'epsilon', 'Z'),
               ('q2', '0', 'Z'): ('q2', 'epsilon', 'Z')}
start_state = 'q0'
accept_states = {'q2'}
stack_symbol = 'Z'

pda = PDASimulator(states, alphabet, stack_alphabet, transitions, start_state, accept_states, stack_symbol)

for i in range (5):
  input_string = input()
  result = pda.is_accepted(input_string)

  if result:
      print(f'The string "{input_string}" is accepted by the PDA.')
  else:
      print(f'The string "{input_string}" is not accepted by the PDA.')
